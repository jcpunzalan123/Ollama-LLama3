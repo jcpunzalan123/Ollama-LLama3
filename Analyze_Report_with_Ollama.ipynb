{
 "cells": [
  {
   "cell_type": "code",
   "execution_count": 17,
   "id": "c79ee32c-1f17-4620-be6a-a1abf20a9283",
   "metadata": {},
   "outputs": [],
   "source": [
    "from llama_index.llms.ollama import Ollama\n",
    "from llama_index.core import SimpleDirectoryReader, VectorStoreIndex\n",
    "from llama_index.core.embeddings import resolve_embed_model\n",
    "from langchain_community.document_loaders import PyPDFLoader\n",
    "import json"
   ]
  },
  {
   "cell_type": "code",
   "execution_count": 2,
   "id": "06ac2fa7-fb3b-4c8d-a4a2-611b730eb931",
   "metadata": {},
   "outputs": [],
   "source": [
    "PDF_DATA_PATH = \"./pdf_reports/\""
   ]
  },
  {
   "cell_type": "code",
   "execution_count": 9,
   "id": "30816a29-2974-4394-a792-9c2d5a9cc242",
   "metadata": {},
   "outputs": [],
   "source": [
    "llm = Ollama(model=\"llama3:8b\", request_timeout=1200.0)"
   ]
  },
  {
   "cell_type": "code",
   "execution_count": 4,
   "id": "f3914af2-6d41-487c-abe8-e5266f693d49",
   "metadata": {},
   "outputs": [],
   "source": [
    "documents = SimpleDirectoryReader(PDF_DATA_PATH).load_data()"
   ]
  },
  {
   "cell_type": "code",
   "execution_count": 5,
   "id": "a645b8fe-5c85-4bae-9fde-64a6c7845ce6",
   "metadata": {},
   "outputs": [
    {
     "name": "stderr",
     "output_type": "stream",
     "text": [
      "C:\\Users\\Tools\\Desktop\\analyze_financial_reports\\analyze_reports_venv\\Lib\\site-packages\\tqdm\\auto.py:21: TqdmWarning: IProgress not found. Please update jupyter and ipywidgets. See https://ipywidgets.readthedocs.io/en/stable/user_install.html\n",
      "  from .autonotebook import tqdm as notebook_tqdm\n"
     ]
    }
   ],
   "source": [
    "embed_model = resolve_embed_model(\"local:BAAI/bge-m3\")"
   ]
  },
  {
   "cell_type": "code",
   "execution_count": 6,
   "id": "c5b5ebfb-d84b-4c7b-90b8-51446eef4e4a",
   "metadata": {},
   "outputs": [],
   "source": [
    "vector_index = VectorStoreIndex.from_documents(documents, embed_model=embed_model)"
   ]
  },
  {
   "cell_type": "code",
   "execution_count": 10,
   "id": "69d36067-af8c-4f41-b0f0-9b4949a8b771",
   "metadata": {},
   "outputs": [],
   "source": [
    "query_engine = vector_index.as_query_engine(llm=llm)"
   ]
  },
  {
   "cell_type": "code",
   "execution_count": 31,
   "id": "d0187f33-affd-47b9-8db0-4a73c041e56c",
   "metadata": {},
   "outputs": [],
   "source": [
    "def ask_llm(question):\n",
    "    result = query_engine.query(question)\n",
    "    return result.response"
   ]
  },
  {
   "cell_type": "code",
   "execution_count": 32,
   "id": "9f835f0e-6c37-43e2-b445-158d4574bbb1",
   "metadata": {},
   "outputs": [
    {
     "data": {
      "text/plain": [
       "'350% or ₱3,248.7 million from ₱929.0 million of the first quarter of 2022 to ₱4,177.7 million.'"
      ]
     },
     "execution_count": 32,
     "metadata": {},
     "output_type": "execute_result"
    }
   ],
   "source": [
    "ask_llm(\"In the first quarter of 2023, how much did the consolidated gross revenue increased?\")"
   ]
  },
  {
   "cell_type": "code",
   "execution_count": 33,
   "id": "ae42e894-0715-4169-8ec0-b8e82f33694a",
   "metadata": {},
   "outputs": [
    {
     "data": {
      "text/plain": [
       "'The cash balance as of March 31, 2024 is 3,898,173 thousand Philippine Pesos.'"
      ]
     },
     "execution_count": 33,
     "metadata": {},
     "output_type": "execute_result"
    }
   ],
   "source": [
    "ask_llm(\"What is the cash balance as of March 31, 2024?\")"
   ]
  },
  {
   "cell_type": "code",
   "execution_count": 34,
   "id": "a9b2301f-1679-430f-954e-9523ae386007",
   "metadata": {},
   "outputs": [
    {
     "data": {
      "text/plain": [
       "'P0.18 per outstanding common share.'"
      ]
     },
     "execution_count": 34,
     "metadata": {},
     "output_type": "execute_result"
    }
   ],
   "source": [
    "ask_llm(\"How much is the approved cash dividends to all stockholders on March 19, 2024?\")"
   ]
  },
  {
   "cell_type": "code",
   "execution_count": null,
   "id": "f0518c52-a9b2-4b46-9929-4ca468150f61",
   "metadata": {},
   "outputs": [],
   "source": []
  }
 ],
 "metadata": {
  "kernelspec": {
   "display_name": "Python 3 (ipykernel)",
   "language": "python",
   "name": "python3"
  },
  "language_info": {
   "codemirror_mode": {
    "name": "ipython",
    "version": 3
   },
   "file_extension": ".py",
   "mimetype": "text/x-python",
   "name": "python",
   "nbconvert_exporter": "python",
   "pygments_lexer": "ipython3",
   "version": "3.12.3"
  }
 },
 "nbformat": 4,
 "nbformat_minor": 5
}
