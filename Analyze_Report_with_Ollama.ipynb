{
 "cells": [
  {
   "cell_type": "code",
   "execution_count": 1,
   "id": "c79ee32c-1f17-4620-be6a-a1abf20a9283",
   "metadata": {},
   "outputs": [],
   "source": [
    "from llama_index.llms.ollama import Ollama\n",
    "from llama_index.core import SimpleDirectoryReader, VectorStoreIndex\n",
    "from llama_index.core.embeddings import resolve_embed_model\n",
    "from langchain_community.document_loaders import PyPDFLoader\n",
    "import json"
   ]
  },
  {
   "cell_type": "code",
   "execution_count": 2,
   "id": "06ac2fa7-fb3b-4c8d-a4a2-611b730eb931",
   "metadata": {},
   "outputs": [],
   "source": [
    "PDF_DATA_PATH = \"./pdf_reports/\""
   ]
  },
  {
   "cell_type": "markdown",
   "id": "978744de-cdda-4508-8495-9a051f6f84f5",
   "metadata": {},
   "source": [
    "## Initialize the Ollama model"
   ]
  },
  {
   "cell_type": "code",
   "execution_count": 3,
   "id": "30816a29-2974-4394-a792-9c2d5a9cc242",
   "metadata": {},
   "outputs": [],
   "source": [
    "llm = Ollama(model=\"llama3:8b\", request_timeout=1200.0)"
   ]
  },
  {
   "cell_type": "markdown",
   "id": "79b2e62c-8a84-4526-be2b-484809ab71db",
   "metadata": {},
   "source": [
    "## Ask questions to base model"
   ]
  },
  {
   "cell_type": "code",
   "execution_count": 4,
   "id": "a45d0f9f-f331-404c-9636-8635b887ba86",
   "metadata": {},
   "outputs": [
    {
     "data": {
      "text/plain": [
       "'I\\'m just an AI, I don\\'t have access to real-time or historical financial data. Additionally, I couldn\\'t find any information on a company called \"DigiPlus Interactive Corp\". It\\'s possible that it\\'s a private company or not publicly traded, which would explain the lack of publicly available financial information.\\n\\nIf you\\'re looking for financial information on a specific company, I recommend checking reputable sources such as the company\\'s website, annual reports, or financial databases like EDGAR (for US-listed companies) or SEDAR (for Canadian-listed companies). You can also try contacting the company directly to request the information.'"
      ]
     },
     "execution_count": 4,
     "metadata": {},
     "output_type": "execute_result"
    }
   ],
   "source": [
    "result = llm.complete(\"In the first quarter of 2023, how much did the consolidated gross revenue increased of DigiPlus Interactive Corp?\")\n",
    "result.text"
   ]
  },
  {
   "cell_type": "code",
   "execution_count": 5,
   "id": "f955686a-1b2d-406c-9f63-b8d00a2d03b3",
   "metadata": {},
   "outputs": [
    {
     "data": {
      "text/plain": [
       "\"I'm just an AI, I don't have access to real-time financial information or specific company data. However, I can suggest some ways for you to find the answer:\\n\\n1. Check the company's website: You can visit DigiPlus Interactive Corp's official website and look for their investor relations or financial reports section. They might have posted their latest quarterly or annual report, which would include the cash balance as of March 31, 2024.\\n2. Search online databases: You can try searching online databases such as EDGAR (Electronic Data Gathering, Analysis, and Retrieval) or SEDAR (System for Electronic Document Analysis and Retrieval), which provide access to publicly filed documents by companies listed on US or Canadian stock exchanges.\\n3. Contact the company directly: You can reach out to DigiPlus Interactive Corp's investor relations department or financial team and ask them about their cash balance as of March 31, 2024. Keep in mind that they might not be able to provide you with this information if it's confidential or not publicly disclosed.\\n4. Check financial news websites: You can also try checking financial news websites like Bloomberg, Reuters, or Yahoo Finance, which often provide real-time stock market data and company financials.\\n\\nPlease note that the availability and accuracy of this information might vary depending on the source and the date of the report.\""
      ]
     },
     "execution_count": 5,
     "metadata": {},
     "output_type": "execute_result"
    }
   ],
   "source": [
    "result = llm.complete(\"What is the cash balance as of March 31, 2024 of DigiPlus Interactive Corp?\")\n",
    "result.text"
   ]
  },
  {
   "cell_type": "code",
   "execution_count": 6,
   "id": "34a2e6d2-0782-41b7-942c-1e485378dd10",
   "metadata": {},
   "outputs": [
    {
     "data": {
      "text/plain": [
       "\"I'm not aware of any information about DigiPlus Interactive Corp or its dividend payments. It's possible that you may be thinking of a different company or that this information hasn't been publicly disclosed yet.\\n\\nAs a reliable and accurate assistant, I can only provide information that is publicly available and up-to-date. If you're looking for information on a specific company's dividend payments, I recommend checking the company's website, contacting their investor relations department, or reviewing financial news sources such as Bloomberg or Reuters.\""
      ]
     },
     "execution_count": 6,
     "metadata": {},
     "output_type": "execute_result"
    }
   ],
   "source": [
    "result = llm.complete(\"How much is the approved cash dividends to all stockholders on March 19, 2024 of DigiPlus Interactive Corp?\")\n",
    "result.text"
   ]
  },
  {
   "cell_type": "markdown",
   "id": "8355d73a-4489-4915-8c21-6b81dea3b5e0",
   "metadata": {},
   "source": [
    "## Implement Retrival-Augmented Generation (RAG)"
   ]
  },
  {
   "cell_type": "code",
   "execution_count": 7,
   "id": "f3914af2-6d41-487c-abe8-e5266f693d49",
   "metadata": {},
   "outputs": [],
   "source": [
    "documents = SimpleDirectoryReader(PDF_DATA_PATH).load_data()"
   ]
  },
  {
   "cell_type": "code",
   "execution_count": 8,
   "id": "a645b8fe-5c85-4bae-9fde-64a6c7845ce6",
   "metadata": {},
   "outputs": [
    {
     "name": "stderr",
     "output_type": "stream",
     "text": [
      "C:\\Users\\Tools\\Desktop\\analyze_financial_reports\\analyze_reports_venv\\Lib\\site-packages\\tqdm\\auto.py:21: TqdmWarning: IProgress not found. Please update jupyter and ipywidgets. See https://ipywidgets.readthedocs.io/en/stable/user_install.html\n",
      "  from .autonotebook import tqdm as notebook_tqdm\n"
     ]
    }
   ],
   "source": [
    "embed_model = resolve_embed_model(\"local:BAAI/bge-m3\")"
   ]
  },
  {
   "cell_type": "code",
   "execution_count": 9,
   "id": "c5b5ebfb-d84b-4c7b-90b8-51446eef4e4a",
   "metadata": {},
   "outputs": [],
   "source": [
    "vector_index = VectorStoreIndex.from_documents(documents, embed_model=embed_model)"
   ]
  },
  {
   "cell_type": "code",
   "execution_count": 10,
   "id": "69d36067-af8c-4f41-b0f0-9b4949a8b771",
   "metadata": {},
   "outputs": [],
   "source": [
    "query_engine = vector_index.as_query_engine(llm=llm)"
   ]
  },
  {
   "cell_type": "code",
   "execution_count": 11,
   "id": "d0187f33-affd-47b9-8db0-4a73c041e56c",
   "metadata": {},
   "outputs": [],
   "source": [
    "def ask_llm(question):\n",
    "    result = query_engine.query(question)\n",
    "    return result.response"
   ]
  },
  {
   "cell_type": "markdown",
   "id": "44c207a0-c03a-47fe-b6ee-ae273e431417",
   "metadata": {},
   "source": [
    "## Ask questions to RAG model"
   ]
  },
  {
   "cell_type": "code",
   "execution_count": 12,
   "id": "9f835f0e-6c37-43e2-b445-158d4574bbb1",
   "metadata": {},
   "outputs": [
    {
     "data": {
      "text/plain": [
       "'₱3,248.7 million.'"
      ]
     },
     "execution_count": 12,
     "metadata": {},
     "output_type": "execute_result"
    }
   ],
   "source": [
    "ask_llm(\"In the first quarter of 2023, how much did the consolidated gross revenue increased of DigiPlus Interactive Corp?\")"
   ]
  },
  {
   "cell_type": "code",
   "execution_count": 13,
   "id": "ae42e894-0715-4169-8ec0-b8e82f33694a",
   "metadata": {},
   "outputs": [
    {
     "data": {
      "text/plain": [
       "'According to the unaudited interim condensed consolidated statement of cash flows for the six months ended June 30, 2023, the cash and cash equivalents at end of period was 3,446,995. \\n\\nSince we are only given information up to June 30, 2023, there is no way to determine the cash balance as of March 31, 2024.'"
      ]
     },
     "execution_count": 13,
     "metadata": {},
     "output_type": "execute_result"
    }
   ],
   "source": [
    "ask_llm(\"What is the cash balance as of March 31, 2024 of DigiPlus Interactive Corp?\")"
   ]
  },
  {
   "cell_type": "code",
   "execution_count": 14,
   "id": "a9b2301f-1679-430f-954e-9523ae386007",
   "metadata": {},
   "outputs": [
    {
     "data": {
      "text/plain": [
       "'The approved cash dividend to all stockholders of DigiPlus Interactive Corp. on March 19, 2024 is P0.18 per outstanding common share.'"
      ]
     },
     "execution_count": 14,
     "metadata": {},
     "output_type": "execute_result"
    }
   ],
   "source": [
    "ask_llm(\"How much is the approved cash dividends to all stockholders on March 19, 2024 of DigiPlus Interactive Corp?\")"
   ]
  },
  {
   "cell_type": "code",
   "execution_count": null,
   "id": "f0518c52-a9b2-4b46-9929-4ca468150f61",
   "metadata": {},
   "outputs": [],
   "source": []
  }
 ],
 "metadata": {
  "kernelspec": {
   "display_name": "Python 3 (ipykernel)",
   "language": "python",
   "name": "python3"
  },
  "language_info": {
   "codemirror_mode": {
    "name": "ipython",
    "version": 3
   },
   "file_extension": ".py",
   "mimetype": "text/x-python",
   "name": "python",
   "nbconvert_exporter": "python",
   "pygments_lexer": "ipython3",
   "version": "3.12.3"
  }
 },
 "nbformat": 4,
 "nbformat_minor": 5
}
